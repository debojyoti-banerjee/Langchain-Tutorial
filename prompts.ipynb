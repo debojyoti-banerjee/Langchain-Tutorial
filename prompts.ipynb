{
 "cells": [
  {
   "cell_type": "code",
   "execution_count": 6,
   "id": "e5c05211",
   "metadata": {},
   "outputs": [],
   "source": [
    "from langchain_core.prompts import PromptTemplate,ChatPromptTemplate\n",
    "from langchain_core.messages import AIMessage,HumanMessage,SystemMessage"
   ]
  },
  {
   "cell_type": "code",
   "execution_count": 2,
   "id": "368b37d3",
   "metadata": {},
   "outputs": [],
   "source": [
    "template=PromptTemplate(template=\"Write a detail summary about the topic {topic}\",input_variables=[\"topic\"])"
   ]
  },
  {
   "cell_type": "code",
   "execution_count": 4,
   "id": "4f1fa5cd",
   "metadata": {},
   "outputs": [
    {
     "name": "stdout",
     "output_type": "stream",
     "text": [
      "text='Write a detail summary about the topic cricket'\n"
     ]
    }
   ],
   "source": [
    "print(template.invoke({\"topic\":\"cricket\"}))"
   ]
  },
  {
   "cell_type": "code",
   "execution_count": 10,
   "id": "59c484cc",
   "metadata": {},
   "outputs": [],
   "source": [
    "template=ChatPromptTemplate([(\"system\",\"You r a helpfull {domain} expertise\"),(\"human\",\"{query}\")])"
   ]
  },
  {
   "cell_type": "code",
   "execution_count": 11,
   "id": "a801699d",
   "metadata": {},
   "outputs": [
    {
     "name": "stdout",
     "output_type": "stream",
     "text": [
      "messages=[SystemMessage(content='You r a helpfull cricket expertise', additional_kwargs={}, response_metadata={}), HumanMessage(content='What is an over', additional_kwargs={}, response_metadata={})]\n"
     ]
    }
   ],
   "source": [
    "print(template.invoke({\"domain\":\"cricket\",\"query\":\"What is an over\"}))\n"
   ]
  }
 ],
 "metadata": {
  "kernelspec": {
   "display_name": "langchainVenv (3.11.4)",
   "language": "python",
   "name": "python3"
  },
  "language_info": {
   "codemirror_mode": {
    "name": "ipython",
    "version": 3
   },
   "file_extension": ".py",
   "mimetype": "text/x-python",
   "name": "python",
   "nbconvert_exporter": "python",
   "pygments_lexer": "ipython3",
   "version": "3.11.4"
  }
 },
 "nbformat": 4,
 "nbformat_minor": 5
}
