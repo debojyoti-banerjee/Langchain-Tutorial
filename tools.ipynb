{
 "cells": [
  {
   "cell_type": "code",
   "execution_count": 5,
   "id": "7221020d",
   "metadata": {},
   "outputs": [],
   "source": [
    "from langchain_community.tools import DuckDuckGoSearchRun,ShellTool"
   ]
  },
  {
   "cell_type": "code",
   "execution_count": 3,
   "id": "7dbe5bbf",
   "metadata": {},
   "outputs": [],
   "source": [
    "search_tool=DuckDuckGoSearchRun()"
   ]
  },
  {
   "cell_type": "code",
   "execution_count": 4,
   "id": "cdd00315",
   "metadata": {},
   "outputs": [
    {
     "name": "stdout",
     "output_type": "stream",
     "text": [
      "10 Sept 2024 — 1. SC finds things 'amiss' in the Kolkata rape-murder case · 2. Can't leave manufacturing to China, Rahul tells Indians in US · 3. How construction boom caused ... 3 days ago · Top News Stories of the day, Latest News Headlines, News Specials, Breaking News and Latest India News , World current affairs & Political News all around the clock at NDTV.com . Stay Up-to-date with Top news in India , current headlines, photos & videos online, live coverage on entertainment, business, politics, sports, technology and more at indianexpress.com. This article is about various news from different parts of India including the arrest of a former principal secretary in Kerala, FATF's black list, social and emotional disability of a man, violation of poll code by DMK workers, searches conducted at four locations in Mumbai leading to recovery of money and jewellery, use of buggies for ceremonial ... See full list on indiatoday. in Myanmar, Iran and North Korea continue to be on the 'Black List' of FATF as \"high-risk jurisdictions\". See full list on indiatoday. in Former principal secretary in Kerala CM's Office arrested for corruption in Life Mission Project, remanded till March 8. See full list on indiatoday. in A man was unable to become a father due to social and emotional disability despite being married for five years. See full list on indiatoday. in The voters were confined by DMK workers during polls which is a violation of poll code. See full list on indiatoday. in Siddiqui, the lone legislator of Indian Secular Front (ISF) was arrested after clashes broke out between police personnel and party’s supporters. See full list on indiatoday. in Searches were conducted leading to recovery of Rs 63 Lakh (approximately), huge quantity jewellery, gold biscuits & cash found. See full list on indiatoday. in Mar 19, 2024 · Top 5 events of the day: Stock market, pleas challenging CAA, Lok Sabha elections 2024 updates, RBI bulletin captured the headlines on Tuesday National news and headlines from within or around India with live updates on major breaking events from The Hindu. Apr 30, 2025 · Today’s top stories cover major developments in politics, defence, sports, and international relations. Stay Up-to-date with Top news in India , current headlines, photos & videos online, live coverage on entertainment, business, politics, sports, technology and more at indianexpress.com. This article is about various news from different parts of India including the arrest of a former principal secretary in Kerala, FATF's black list, social and emotional disability of a man, violation of poll code by DMK workers, searches conducted at four locations in Mumbai leading to recovery of money and jewellery, use of buggies for ceremonial ... See full list on indiatoday. in Myanmar, Iran and North Korea continue to be on the 'Black List' of FATF as \"high-risk jurisdictions\". See full list on indiatoday. in Former principal secretary in Kerala CM's Office arrested for corruption in Life Mission Project, remanded till March 8. See full list on indiatoday. in A man was unable to become a father due to social and emotional disability despite being married for five years. See full list on indiatoday. in The voters were confined by DMK workers during polls which is a violation of poll code. See full list on indiatoday. in Siddiqui, the lone legislator of Indian Secular Front (ISF) was arrested after clashes broke out between police personnel and party’s supporters. See full list on indiatoday. in Searches were conducted leading to recovery of Rs 63 Lakh (approximately), huge quantity jewellery, gold biscuits & cash found. See full list on indiatoday. in Mar 19, 2024 · Top 5 events of the day: Stock market, pleas challenging CAA, Lok Sabha elections 2024 updates, RBI bulletin captured the headlines on Tuesday National news and headlines from within or around India with live updates on major breaking events from The Hindu. Apr 30, 2025 · Today’s top stories cover major developments in politics, defence, sports, and international relations. Mar 19, 2024 · Top 5 events of the day: Stock market, pleas challenging CAA, Lok Sabha elections 2024 updates, RBI bulletin captured the headlines on Tuesday\n"
     ]
    }
   ],
   "source": [
    "result=search_tool.invoke(\"top 5 news in india\")\n",
    "print(result)"
   ]
  },
  {
   "cell_type": "code",
   "execution_count": 7,
   "id": "d3b49263",
   "metadata": {},
   "outputs": [
    {
     "name": "stdout",
     "output_type": "stream",
     "text": [
      "Executing command:\n",
      " whoami\n",
      "laptop-0837kc3g\\debojyoti\n",
      "\n"
     ]
    },
    {
     "name": "stderr",
     "output_type": "stream",
     "text": [
      "c:\\Users\\DEBOJYOTI\\OneDrive\\Desktop\\Study\\Langchain-Tutorial\\langchainVenv\\Lib\\site-packages\\langchain_community\\tools\\shell\\tool.py:33: UserWarning: The shell tool has no safeguards by default. Use at your own risk.\n",
      "  warnings.warn(\n"
     ]
    }
   ],
   "source": [
    "search_tool=ShellTool()\n",
    "result=search_tool.invoke(\"whoami\")\n",
    "print(result)"
   ]
  }
 ],
 "metadata": {
  "kernelspec": {
   "display_name": "langchainVenv (3.11.4)",
   "language": "python",
   "name": "python3"
  },
  "language_info": {
   "codemirror_mode": {
    "name": "ipython",
    "version": 3
   },
   "file_extension": ".py",
   "mimetype": "text/x-python",
   "name": "python",
   "nbconvert_exporter": "python",
   "pygments_lexer": "ipython3",
   "version": "3.11.4"
  }
 },
 "nbformat": 4,
 "nbformat_minor": 5
}
