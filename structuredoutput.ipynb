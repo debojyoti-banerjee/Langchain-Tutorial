{
 "cells": [
  {
   "cell_type": "code",
   "execution_count": 19,
   "id": "19e59624",
   "metadata": {},
   "outputs": [],
   "source": [
    "from langchain_huggingface import ChatHuggingFace,HuggingFaceEndpoint\n",
    "from dotenv import load_dotenv\n",
    "from typing import TypedDict,Annotated,Literal\n",
    "from langchain_core.prompts import PromptTemplate\n",
    "from pydantic import BaseModel,Field"
   ]
  },
  {
   "cell_type": "code",
   "execution_count": 13,
   "id": "fdff2b7c",
   "metadata": {},
   "outputs": [
    {
     "data": {
      "text/plain": [
       "True"
      ]
     },
     "execution_count": 13,
     "metadata": {},
     "output_type": "execute_result"
    }
   ],
   "source": [
    "load_dotenv()"
   ]
  },
  {
   "cell_type": "code",
   "execution_count": 14,
   "id": "c703f689",
   "metadata": {},
   "outputs": [],
   "source": [
    "llm=HuggingFaceEndpoint(repo_id=\"deepseek-ai/DeepSeek-R1-0528\",task=\"text-generation\")\n",
    "model=ChatHuggingFace(llm=llm)"
   ]
  },
  {
   "cell_type": "code",
   "execution_count": 15,
   "id": "4b650e5a",
   "metadata": {},
   "outputs": [],
   "source": [
    "class Riview(TypedDict):\n",
    "    Name:Annotated[str,\"Name of the customer\"]\n",
    "    sentiment:Annotated[Literal[\"positive\",\"negative\"],\"sentiment of the riview\"]\n",
    "    features:Annotated[list[str],\"Key features included in the riview\"]"
   ]
  },
  {
   "cell_type": "code",
   "execution_count": 16,
   "id": "217ae86d",
   "metadata": {},
   "outputs": [],
   "source": [
    "structure_model=model.with_structured_output(Riview)"
   ]
  },
  {
   "cell_type": "code",
   "execution_count": 17,
   "id": "6d1deae1",
   "metadata": {},
   "outputs": [],
   "source": [
    "template=PromptTemplate(template=\"Give the name of the customer, sentiment of the riview and key features included in the riview given below \\n {text}\",input_variables=[\"text\"])"
   ]
  },
  {
   "cell_type": "code",
   "execution_count": 18,
   "id": "331a0566",
   "metadata": {},
   "outputs": [
    {
     "name": "stdout",
     "output_type": "stream",
     "text": [
      "{'features': ['battery', 'camera'], 'sentiment': 'positive'}\n"
     ]
    }
   ],
   "source": [
    "prompt=template.invoke({\"text\":\"My name is Debojyoti. the phone is good. the battery and camera is awesome\"})\n",
    "result=structure_model.invoke(prompt)\n",
    "print(result)"
   ]
  },
  {
   "cell_type": "code",
   "execution_count": null,
   "id": "07917b3a",
   "metadata": {},
   "outputs": [],
   "source": []
  }
 ],
 "metadata": {
  "kernelspec": {
   "display_name": "langchainVenv (3.11.4)",
   "language": "python",
   "name": "python3"
  },
  "language_info": {
   "codemirror_mode": {
    "name": "ipython",
    "version": 3
   },
   "file_extension": ".py",
   "mimetype": "text/x-python",
   "name": "python",
   "nbconvert_exporter": "python",
   "pygments_lexer": "ipython3",
   "version": "3.11.4"
  }
 },
 "nbformat": 4,
 "nbformat_minor": 5
}
