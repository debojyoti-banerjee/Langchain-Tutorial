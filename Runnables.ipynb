{
 "cells": [
  {
   "cell_type": "code",
   "execution_count": 14,
   "id": "2beba71d",
   "metadata": {},
   "outputs": [],
   "source": [
    "from langchain_huggingface import ChatHuggingFace,HuggingFaceEndpoint\n",
    "from dotenv import load_dotenv\n",
    "from langchain_core.runnables import RunnableParallel,RunnableLambda\n",
    "from langchain_core.prompts import PromptTemplate\n",
    "from langchain_core.output_parsers import StrOutputParser"
   ]
  },
  {
   "cell_type": "code",
   "execution_count": 2,
   "id": "b5809711",
   "metadata": {},
   "outputs": [
    {
     "data": {
      "text/plain": [
       "True"
      ]
     },
     "execution_count": 2,
     "metadata": {},
     "output_type": "execute_result"
    }
   ],
   "source": [
    "load_dotenv()"
   ]
  },
  {
   "cell_type": "code",
   "execution_count": 3,
   "id": "e0d09d0d",
   "metadata": {},
   "outputs": [
    {
     "name": "stderr",
     "output_type": "stream",
     "text": [
      "c:\\Users\\DEBOJYOTI\\OneDrive\\Desktop\\Study\\Langchain-Tutorial\\langchainVenv\\Lib\\site-packages\\tqdm\\auto.py:21: TqdmWarning: IProgress not found. Please update jupyter and ipywidgets. See https://ipywidgets.readthedocs.io/en/stable/user_install.html\n",
      "  from .autonotebook import tqdm as notebook_tqdm\n"
     ]
    }
   ],
   "source": [
    "#Making model\n",
    "llm=HuggingFaceEndpoint(repo_id=\"MiniMaxAI/MiniMax-M1-80k\",task=\"text-generation\")\n",
    "model=ChatHuggingFace(llm=llm)"
   ]
  },
  {
   "cell_type": "code",
   "execution_count": 15,
   "id": "fb910ab1",
   "metadata": {},
   "outputs": [
    {
     "name": "stdout",
     "output_type": "stream",
     "text": [
      "{'report': '<think>\\nOkay, I need to write a short paragraph about black holes. Let me start by recalling what I know about them. Black holes are regions in space where gravity is so strong that nothing, not even light, can escape. They form when massive stars collapse under their own gravity. The event horizon is the boundary beyond which nothing can return.\\n\\nWait, I should mention the key features: singularity, event horizon, maybe types of black holes? But the user asked for a short paragraph, so I need to be concise. Also, maybe include something about their detection or effects on surrounding matter. Oh, and perhaps a bit about their role in the universe.\\n\\nI should make sure the information is accurate. Let me check the facts. Black holes are predicted by Einstein\\'s theory of general relativity. The singularity is a point of infinite density. The event horizon is the point of no return. Supermassive black holes are at the centers of galaxies. Also, they can be detected through their gravitational effects and by observing accretion disks or gravitational waves.\\n\\nHmm, the user wants a short paragraph, so I need to include the most important points without getting too detailed. Maybe start with a definition, formation, structure, and significance. Avoid technical jargon but still be precise. Let me structure it: start with what a black hole is, how it\\'s formed, mention the event horizon and singularity, maybe a note on their observation or role in the universe.\\n\\nWait, the example response from the assistant was: \"A black hole is a region in spacetime where gravity is so intense that nothing, not even light, can escape its pull. Formed by the gravitational collapse of massive stars, black holes are characterized by their event horizon—a boundary beyond which no information or matter can return—and a singularity, a point of infinite density at their core. They influence their surroundings through extreme gravitational forces, often creating accretion disks of superheated matter and emitting detectable radiation, offering critical insights into the universe\\'s most enigmatic phenomena.\"\\n\\nI need to make sure my paragraph is similar in length and covers the same points. Let me try to rephrase that. Start with the definition, formation, event horizon, singularity, effects on surroundings, and their role in research. Check for clarity and correctness. Avoid any errors like saying light can escape, which is wrong. Make sure terms like spacetime, gravitational collapse, event horizon, singularity are included. Maybe mention detection methods briefly, like accretion disks or radiation. Keep it concise but informative.</think>\\n\\nA black hole is a region in spacetime where gravity is so intense that nothing, not even light, can escape its pull. Formed by the gravitational collapse of massive stars, black holes are defined by their event horizon—a boundary beyond which no information or matter can return—and a singularity, a point of infinite density at their core. They influence their surroundings through extreme gravitational forces, often creating accretion disks of superheated matter and emitting detectable radiation, offering critical insights into the universe\\'s most enigmatic phenomena.', 'question': '<think>\\nOkay, the user asked me to write two questions about black holes. Let me start by recalling what I know about black holes. They\\'re regions in space with gravity so strong that nothing, not even light, can escape. But I need to come up with two distinct questions that cover different aspects.\\n\\nFirst, maybe a question about their formation. How do black holes form? That\\'s a common one. But I should make sure it\\'s phrased clearly. Maybe something like, \"What are the primary mechanisms through which black holes form in the universe?\" That sounds more detailed.\\n\\nSecond, perhaps something about their structure or properties. The event horizon is a key feature. So a question could be about the event horizon\\'s significance. Like, \"What is the event horizon of a black hole, and why is it considered a point of no return?\" That covers the definition and importance.\\n\\nWait, are there other aspects? Maybe types of black holes, like stellar vs. supermassive. Or maybe about their detection methods. But the user just asked for two questions, so I should pick the most fundamental ones. Formation and event horizon seem good. Let me check if those are accurate. Yes, formation mechanisms include stellar collapse and possibly other ways like mergers. The event horizon is indeed the boundary beyond which nothing escapes. I think those two questions cover different areas and are clear.</think>\\n\\n1. **What are the primary mechanisms through which black holes form in the universe?**  \\n   (This question explores the astrophysical processes, such as stellar collapse, supernovae, or galactic black hole mergers, that lead to black hole formation.)\\n\\n2. **What is the event horizon of a black hole, and why is it considered a point of no return?**  \\n   (This question addresses the defining boundary of a black hole and its role in trapping light and matter due to extreme gravitational effects.)', 'length': 1}\n"
     ]
    }
   ],
   "source": [
    "parser=StrOutputParser()\n",
    "template_1=PromptTemplate(template=\"Write a short paragraph about {topic}\",input_variables=[\"topic\"])\n",
    "template_2=PromptTemplate(template=\"Write 2 questions about {topic}\",input_variables=[\"topic\"])\n",
    "\n",
    "branch_chain=RunnableParallel({\n",
    "    \"report\":template_1 | model | parser,\n",
    "    \"question\":template_2 | model | parser,\n",
    "    \"length\":RunnableLambda(lambda x: len(x))\n",
    "})\n",
    "\n",
    "result=branch_chain.invoke({\"topic\":\"Black hole\"})\n",
    "print(result)\n"
   ]
  },
  {
   "cell_type": "code",
   "execution_count": 16,
   "id": "3db8a3ec",
   "metadata": {},
   "outputs": [
    {
     "name": "stdout",
     "output_type": "stream",
     "text": [
      "A black hole is a region in spacetime where gravity is so intense that nothing, not even light, can escape its pull. Formed by the gravitational collapse of massive stars, black holes are defined by their event horizon—a boundary beyond which no information or matter can return—and a singularity, a point of infinite density at their core. They influence their surroundings through extreme gravitational forces, often creating accretion disks of superheated matter and emitting detectable radiation, offering critical insights into the universe's most enigmatic phenomena.\n"
     ]
    }
   ],
   "source": [
    "print(result[\"report\"].split(\"</think>\")[-1].strip())"
   ]
  },
  {
   "cell_type": "code",
   "execution_count": 17,
   "id": "a838dda0",
   "metadata": {},
   "outputs": [
    {
     "name": "stdout",
     "output_type": "stream",
     "text": [
      "1. **What are the primary mechanisms through which black holes form in the universe?**  \n",
      "   (This question explores the astrophysical processes, such as stellar collapse, supernovae, or galactic black hole mergers, that lead to black hole formation.)\n",
      "\n",
      "2. **What is the event horizon of a black hole, and why is it considered a point of no return?**  \n",
      "   (This question addresses the defining boundary of a black hole and its role in trapping light and matter due to extreme gravitational effects.)\n"
     ]
    }
   ],
   "source": [
    "print(result[\"question\"].split(\"</think>\")[-1].strip())"
   ]
  },
  {
   "cell_type": "code",
   "execution_count": 18,
   "id": "5c2b2937",
   "metadata": {},
   "outputs": [
    {
     "name": "stdout",
     "output_type": "stream",
     "text": [
      "1\n"
     ]
    }
   ],
   "source": [
    "print(result[\"length\"])"
   ]
  }
 ],
 "metadata": {
  "kernelspec": {
   "display_name": "langchainVenv (3.11.4)",
   "language": "python",
   "name": "python3"
  },
  "language_info": {
   "codemirror_mode": {
    "name": "ipython",
    "version": 3
   },
   "file_extension": ".py",
   "mimetype": "text/x-python",
   "name": "python",
   "nbconvert_exporter": "python",
   "pygments_lexer": "ipython3",
   "version": "3.11.4"
  }
 },
 "nbformat": 4,
 "nbformat_minor": 5
}
