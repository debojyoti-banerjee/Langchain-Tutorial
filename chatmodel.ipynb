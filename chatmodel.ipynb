{
 "cells": [
  {
   "cell_type": "code",
   "execution_count": 25,
   "id": "d1cc841f",
   "metadata": {},
   "outputs": [],
   "source": [
    "#Import Packages\n",
    "from langchain_huggingface import HuggingFaceEndpoint, ChatHuggingFace\n",
    "from dotenv import load_dotenv\n"
   ]
  },
  {
   "cell_type": "code",
   "execution_count": 26,
   "id": "ae40866c",
   "metadata": {},
   "outputs": [
    {
     "data": {
      "text/plain": [
       "True"
      ]
     },
     "execution_count": 26,
     "metadata": {},
     "output_type": "execute_result"
    }
   ],
   "source": [
    "#load env variables\n",
    "load_dotenv()"
   ]
  },
  {
   "cell_type": "code",
   "execution_count": 27,
   "id": "18367c21",
   "metadata": {},
   "outputs": [],
   "source": [
    "#Making model\n",
    "llm=HuggingFaceEndpoint(repo_id=\"MiniMaxAI/MiniMax-M1-80k\",task=\"text-generation\")\n",
    "model=ChatHuggingFace(llm=llm)"
   ]
  },
  {
   "cell_type": "code",
   "execution_count": 30,
   "id": "2289c000",
   "metadata": {},
   "outputs": [
    {
     "name": "stdout",
     "output_type": "stream",
     "text": [
      "content='<think>\\nOkay, the user is asking about the PM of India. Let me recall the current Prime Minister. From what I remember, Narendra Modi has been the Prime Minister of India for a while now. He became PM in 2014 after the Bharatiya Janata Party (BJP) won the elections. He\\'s been re-elected a couple of times since then.\\n\\nWait, the user might want the most up-to-date information. The knowledge cutoff for M1 is February 2025. So I need to check if there\\'s been any change in the PM role up to that point. As of the last update in February 2025, Modi is still the PM. He was re-elected in 2019 and again in 2024, I think. So the answer should be Narendra Modi.\\n\\nBut I should make sure there\\'s no recent event that changed the PM. Since the cutoff is February 2025, if there was an election or a change in government after that, I wouldn\\'t know. But assuming the information is current up to February 2025, Modi is the PM.\\n\\nAlso, the user might want more details, like his party, term periods, etc. But the question is straightforward: \"who is the PM of India\". So the answer is Narendra Modi. Maybe add a bit more context, like his party and when he took office, to provide a complete answer.</think>\\n\\nThe current Prime Minister of India is **Narendra Modi**. He has served as the Prime Minister since May 26, 2014, leading the Bharatiya Janata Party (BJP). Modi was re-elected for a third term following the 2024 general elections, continuing his tenure as of the latest available information up to February 2025. \\n\\n### Key Details:\\n- **Political Party**: Bharatiya Janata Party (BJP).  \\n- **Term Start**: May 26, 2014 (first term), May 30, 2019 (second term), and June 9, 2024 (third term).  \\n- **Key Policies**: Focus on economic reforms (e.g., \"Make in India\"), infrastructure development, and digital initiatives like Aadhaar and UPI.  \\n\\nLet me know if you\\'d like further details! 😊' additional_kwargs={} response_metadata={'token_usage': {'completion_tokens': 461, 'prompt_tokens': 467, 'total_tokens': 928}, 'model_name': 'MiniMaxAI/MiniMax-M1-80k', 'system_fingerprint': '', 'finish_reason': 'stop', 'logprobs': None} id='run--cf1e71c3-ae99-4376-9ed4-d21c03192142-0' usage_metadata={'input_tokens': 467, 'output_tokens': 461, 'total_tokens': 928}\n"
     ]
    }
   ],
   "source": [
    "#Testing\n",
    "result=model.invoke(\"who is the PM of India\")\n",
    "print(result)"
   ]
  },
  {
   "cell_type": "code",
   "execution_count": 29,
   "id": "d2ac48be",
   "metadata": {},
   "outputs": [
    {
     "name": "stdout",
     "output_type": "stream",
     "text": [
      "The Prime Minister of India as of February 2025 is **Narendra Modi**. He has served as the Prime Minister of India since May 2014, leading the Bharatiya Janata Party (BJP). Modi was re-elected for a third consecutive term following the 2024 general elections, which concluded in June 2024. His tenure has focused on policies like economic reforms, infrastructure development, and initiatives such as \"Make in India\" and \"Digital India.\" \n",
      "\n",
      "For real-time updates beyond February 2025, additional verification may be required.\n"
     ]
    }
   ],
   "source": [
    "answer = result.content.split(\"</think>\")[-1].strip()  # take text after reasoning\n",
    "print(answer)"
   ]
  }
 ],
 "metadata": {
  "kernelspec": {
   "display_name": "langchainVenv (3.11.4)",
   "language": "python",
   "name": "python3"
  },
  "language_info": {
   "codemirror_mode": {
    "name": "ipython",
    "version": 3
   },
   "file_extension": ".py",
   "mimetype": "text/x-python",
   "name": "python",
   "nbconvert_exporter": "python",
   "pygments_lexer": "ipython3",
   "version": "3.11.4"
  }
 },
 "nbformat": 4,
 "nbformat_minor": 5
}
