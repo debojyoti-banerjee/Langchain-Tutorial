{
 "cells": [
  {
   "cell_type": "code",
   "execution_count": 8,
   "id": "5b0f1354",
   "metadata": {},
   "outputs": [],
   "source": [
    "from langchain_core.tools import tool,BaseTool\n",
    "from typing import Type\n",
    "from pydantic import BaseModel,Field"
   ]
  },
  {
   "cell_type": "code",
   "execution_count": 2,
   "id": "9f907be4",
   "metadata": {},
   "outputs": [],
   "source": [
    "@tool\n",
    "def multiply(a:int,b:int)->int:\n",
    "    \"\"\"Multiply Two numbers\"\"\"\n",
    "    return a*b"
   ]
  },
  {
   "cell_type": "code",
   "execution_count": 3,
   "id": "2b14a086",
   "metadata": {},
   "outputs": [
    {
     "name": "stdout",
     "output_type": "stream",
     "text": [
      "4\n"
     ]
    }
   ],
   "source": [
    "print(multiply.invoke({\"a\":1,\"b\":4}))"
   ]
  },
  {
   "cell_type": "code",
   "execution_count": 5,
   "id": "3f7c4c70",
   "metadata": {},
   "outputs": [
    {
     "name": "stdout",
     "output_type": "stream",
     "text": [
      "multiply\n",
      "Multiply Two numbers\n",
      "{'a': {'title': 'A', 'type': 'integer'}, 'b': {'title': 'B', 'type': 'integer'}}\n"
     ]
    }
   ],
   "source": [
    "print(multiply.name)\n",
    "print(multiply.description)\n",
    "print(multiply.args)"
   ]
  },
  {
   "cell_type": "code",
   "execution_count": 11,
   "id": "b417b359",
   "metadata": {},
   "outputs": [],
   "source": [
    "class multiplyschema(BaseModel):\n",
    "    a:int=Field(required=True,description=\"First integer number to multiply\")\n",
    "    b:int=Field(required=True,description=\"second integer number to multiply\")\n",
    "\n",
    "\n",
    "class multiply_tool(BaseTool):\n",
    "    name:str=\"Multiply\"\n",
    "    description:str=\"multiply two numbers\"\n",
    "    args_schema:Type[BaseModel]=multiplyschema\n",
    "    def _run(self,a:int,b:int)->int:\n",
    "        return a*b\n",
    "    "
   ]
  },
  {
   "cell_type": "code",
   "execution_count": 12,
   "id": "229c4168",
   "metadata": {},
   "outputs": [
    {
     "name": "stdout",
     "output_type": "stream",
     "text": [
      "20\n",
      "Multiply\n",
      "multiply two numbers\n",
      "{'a': {'description': 'First integer number to multiply', 'required': True, 'title': 'A', 'type': 'integer'}, 'b': {'description': 'second integer number to multiply', 'required': True, 'title': 'B', 'type': 'integer'}}\n"
     ]
    }
   ],
   "source": [
    "a=multiply_tool()\n",
    "print(a.invoke({\"a\":5,\"b\":4}))\n",
    "print(a.name)\n",
    "print(a.description)\n",
    "print(a.args)"
   ]
  }
 ],
 "metadata": {
  "kernelspec": {
   "display_name": "langchainVenv (3.11.4)",
   "language": "python",
   "name": "python3"
  },
  "language_info": {
   "codemirror_mode": {
    "name": "ipython",
    "version": 3
   },
   "file_extension": ".py",
   "mimetype": "text/x-python",
   "name": "python",
   "nbconvert_exporter": "python",
   "pygments_lexer": "ipython3",
   "version": "3.11.4"
  }
 },
 "nbformat": 4,
 "nbformat_minor": 5
}
