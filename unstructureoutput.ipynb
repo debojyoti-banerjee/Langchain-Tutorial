{
 "cells": [
  {
   "cell_type": "code",
   "execution_count": 5,
   "id": "4cc9f689",
   "metadata": {},
   "outputs": [],
   "source": [
    "from langchain_huggingface import ChatHuggingFace,HuggingFaceEndpoint\n",
    "from dotenv import load_dotenv\n",
    "from typing import TypedDict,Annotated,Literal\n",
    "from langchain_core.prompts import PromptTemplate\n",
    "from pydantic import BaseModel,Field\n",
    "from langchain_core.output_parsers import StrOutputParser,JsonOutputParser,PydanticOutputParser"
   ]
  },
  {
   "cell_type": "code",
   "execution_count": 3,
   "id": "7c56831d",
   "metadata": {},
   "outputs": [
    {
     "data": {
      "text/plain": [
       "True"
      ]
     },
     "execution_count": 3,
     "metadata": {},
     "output_type": "execute_result"
    }
   ],
   "source": [
    "load_dotenv()"
   ]
  },
  {
   "cell_type": "code",
   "execution_count": 4,
   "id": "0fe5f7a0",
   "metadata": {},
   "outputs": [
    {
     "name": "stderr",
     "output_type": "stream",
     "text": [
      "c:\\Users\\DEBOJYOTI\\OneDrive\\Desktop\\Study\\Langchain-Tutorial\\langchainVenv\\Lib\\site-packages\\tqdm\\auto.py:21: TqdmWarning: IProgress not found. Please update jupyter and ipywidgets. See https://ipywidgets.readthedocs.io/en/stable/user_install.html\n",
      "  from .autonotebook import tqdm as notebook_tqdm\n"
     ]
    }
   ],
   "source": [
    "llm=HuggingFaceEndpoint(repo_id=\"deepseek-ai/DeepSeek-R1-0528\",task=\"text-generation\")\n",
    "model=ChatHuggingFace(llm=llm)"
   ]
  },
  {
   "cell_type": "code",
   "execution_count": 8,
   "id": "3434178e",
   "metadata": {},
   "outputs": [],
   "source": [
    "template=PromptTemplate(template=\"who is {name}\",input_variables=[\"name\"])"
   ]
  },
  {
   "cell_type": "code",
   "execution_count": 9,
   "id": "e6111ce8",
   "metadata": {},
   "outputs": [
    {
     "name": "stdout",
     "output_type": "stream",
     "text": [
      "<think>\n",
      "Okay, the user is asking \"who is Virat Kohli.\" Let me start by breaking down what they might need. They might be completely unfamiliar with him, so I should cover the basics. But why are they asking? Maybe they heard his name in sports news, or a friend mentioned him. Could be a new cricket fan or someone outside cricket-playing countries.\n",
      "\n",
      "First, I'll outline his main roles: Indian cricketer, former captain. Highlight his batting since that's his standout skill. Mention his aggressive style and consistency—those are key traits. Also, his leadership, especially in Test cricket. Awards like ICC Player of the Decade add credibility.\n",
      "\n",
      "Wait, should I include his personal life? Maybe briefly mention Anushka Sharma since it's public knowledge, but focus on cricket. Stats are important: centuries, records. But don't overwhelm with numbers. Emphasize his impact beyond stats—how he inspired fitness in the team. \n",
      "\n",
      "User's deeper needs? They might want to understand his significance in cricket history or why he's so popular. Maybe comparing him to other greats? Or looking for his current status after stepping down as captain. Also, check if they need recent info, like his form post-captaincy. \n",
      "\n",
      "Make sure to mention his nickname \"King Kohli\" and the chase master angle. That resonates with fans. Also, his role in modernizing Indian cricket's fitness standards. Conclude with his legacy as one of the greats. Keep it concise but comprehensive. Avoid jargon for newcomers. Align with the assistant's existing response structure but ensure clarity.\n",
      "</think>\n",
      "**Virat Kohli** is one of the most celebrated and accomplished **Indian cricketers** of all time, widely regarded as one of the greatest batsmen in the history of the sport. Here's a breakdown of who he is:\n",
      "\n",
      "1.  **Primary Role:** Right-handed Top-Order Batsman (primarily plays at No. 3 or 4).\n",
      "2.  **Former Captain:** He served as the captain of the **Indian national cricket team** in all formats (Test, ODI, T20I) for significant periods.\n",
      "    *   **Test Captain (2014-2022):** Led India to unprecedented success, especially in overseas Test matches. Under his captaincy, India became the dominant Test team, reaching the No. 1 ranking for a long stretch and winning historic series in Australia.\n",
      "    *   **Limited-Overs Captain (2017-2021 ODI & T20I, stepped down from T20I first, then ODI, then Test):** Took India to the semi-finals of the 2019 ODI World Cup and the final of the 2017 ICC Champions Trophy.\n",
      "3.  **Batting Phenomenon:**\n",
      "    *   **Consistency & Records:** Known for his incredible consistency, aggressive style, and unparalleled chasing ability in ODIs (earning him the nickname \"King Kohli\" and \"Chase Master\").\n",
      "    *   **Century Machine:** Holds numerous batting records, including:\n",
      "        *   **Most ODI Centuries:** 50 (First player ever to reach 50 ODI tons, surpassing Sachin Tendulkar).\n",
      "        *   **Most Centuries in Run Chases (ODI):** 27.\n",
      "        *   **Fastest to reach milestones:** Fastest to 8,000, 9,000, 10,000, 11,000, and 12,000 runs in ODIs.\n",
      "        *   **Most Runs in T20 Internationals:** Over 4,000 runs.\n",
      "        *   **Among the top run-scorers in Test cricket** for India.\n",
      "    *   **ICC Awards:** Won the prestigious **ICC Men's Cricketer of the Decade (2011-2020)** award, among many other ICC Player of the Year awards.\n",
      "4.  **Fitness Icon:** Kohli revolutionized fitness standards in Indian cricket. His incredible athleticism, dedication to training, and focus on physical conditioning set a new benchmark for the entire team and inspired a generation of cricketers.\n",
      "5.  **Aggressive Leader & Passionate Player:** Known for his intense passion, aggressive on-field demeanor, and never-say-die attitude. He wore his heart on his sleeve, which sometimes drew criticism but also made him a hugely popular and inspirational figure.\n",
      "6.  **Current Status:** While he stepped down from all captaincy roles by early 2022, he remains a vital **senior batsman** in the Indian team across all formats, still scoring heavily and chasing records.\n",
      "7.  **Beyond Cricket:** He is married to Bollywood actress Anushka Sharma. He is a global icon, one of the most marketable athletes in the world, and runs his own fitness and lifestyle brand.\n",
      "\n",
      "**In essence, Virat Kohli is:**\n",
      "\n",
      "*   A modern-day cricketing legend.\n",
      "*   One of the greatest batsmen ever, particularly in ODI cricket.\n",
      "*   A transformative and highly successful captain, especially in Test cricket.\n",
      "*   A fitness pioneer who changed the culture of Indian cricket.\n",
      "*   A passionate, aggressive, and inspirational figure on the field.\n",
      "*   A global sporting icon.\n",
      "\n",
      "His impact on Indian cricket, both as a batsman and a leader, has been immense, and he continues to be a major force in the game.\n"
     ]
    }
   ],
   "source": [
    "parser=StrOutputParser()\n",
    "chain=template | model | parser\n",
    "result=chain.invoke({\"name\":\"virat kohli\"})\n",
    "print(result)"
   ]
  },
  {
   "cell_type": "code",
   "execution_count": 10,
   "id": "835771e8",
   "metadata": {},
   "outputs": [
    {
     "name": "stdout",
     "output_type": "stream",
     "text": [
      "**Virat Kohli** is one of the most celebrated and accomplished **Indian cricketers** of all time, widely regarded as one of the greatest batsmen in the history of the sport. Here's a breakdown of who he is:\n",
      "\n",
      "1.  **Primary Role:** Right-handed Top-Order Batsman (primarily plays at No. 3 or 4).\n",
      "2.  **Former Captain:** He served as the captain of the **Indian national cricket team** in all formats (Test, ODI, T20I) for significant periods.\n",
      "    *   **Test Captain (2014-2022):** Led India to unprecedented success, especially in overseas Test matches. Under his captaincy, India became the dominant Test team, reaching the No. 1 ranking for a long stretch and winning historic series in Australia.\n",
      "    *   **Limited-Overs Captain (2017-2021 ODI & T20I, stepped down from T20I first, then ODI, then Test):** Took India to the semi-finals of the 2019 ODI World Cup and the final of the 2017 ICC Champions Trophy.\n",
      "3.  **Batting Phenomenon:**\n",
      "    *   **Consistency & Records:** Known for his incredible consistency, aggressive style, and unparalleled chasing ability in ODIs (earning him the nickname \"King Kohli\" and \"Chase Master\").\n",
      "    *   **Century Machine:** Holds numerous batting records, including:\n",
      "        *   **Most ODI Centuries:** 50 (First player ever to reach 50 ODI tons, surpassing Sachin Tendulkar).\n",
      "        *   **Most Centuries in Run Chases (ODI):** 27.\n",
      "        *   **Fastest to reach milestones:** Fastest to 8,000, 9,000, 10,000, 11,000, and 12,000 runs in ODIs.\n",
      "        *   **Most Runs in T20 Internationals:** Over 4,000 runs.\n",
      "        *   **Among the top run-scorers in Test cricket** for India.\n",
      "    *   **ICC Awards:** Won the prestigious **ICC Men's Cricketer of the Decade (2011-2020)** award, among many other ICC Player of the Year awards.\n",
      "4.  **Fitness Icon:** Kohli revolutionized fitness standards in Indian cricket. His incredible athleticism, dedication to training, and focus on physical conditioning set a new benchmark for the entire team and inspired a generation of cricketers.\n",
      "5.  **Aggressive Leader & Passionate Player:** Known for his intense passion, aggressive on-field demeanor, and never-say-die attitude. He wore his heart on his sleeve, which sometimes drew criticism but also made him a hugely popular and inspirational figure.\n",
      "6.  **Current Status:** While he stepped down from all captaincy roles by early 2022, he remains a vital **senior batsman** in the Indian team across all formats, still scoring heavily and chasing records.\n",
      "7.  **Beyond Cricket:** He is married to Bollywood actress Anushka Sharma. He is a global icon, one of the most marketable athletes in the world, and runs his own fitness and lifestyle brand.\n",
      "\n",
      "**In essence, Virat Kohli is:**\n",
      "\n",
      "*   A modern-day cricketing legend.\n",
      "*   One of the greatest batsmen ever, particularly in ODI cricket.\n",
      "*   A transformative and highly successful captain, especially in Test cricket.\n",
      "*   A fitness pioneer who changed the culture of Indian cricket.\n",
      "*   A passionate, aggressive, and inspirational figure on the field.\n",
      "*   A global sporting icon.\n",
      "\n",
      "His impact on Indian cricket, both as a batsman and a leader, has been immense, and he continues to be a major force in the game.\n"
     ]
    }
   ],
   "source": [
    "print(result.split(\"</think>\")[-1].strip())"
   ]
  },
  {
   "cell_type": "code",
   "execution_count": 13,
   "id": "31a52e0f",
   "metadata": {},
   "outputs": [
    {
     "name": "stdout",
     "output_type": "stream",
     "text": [
      "{'name': 'Rajesh', 'age': 15, 'place': 'Mumbai'}\n"
     ]
    }
   ],
   "source": [
    "parser=JsonOutputParser()\n",
    "\n",
    "template=PromptTemplate(template=\"Give the name age place of the person in the paragraph {topic} \\n{format_instruction}\",input_variables=[\"topic\"],\n",
    "                        partial_variables={\"format_instruction\":parser.get_format_instructions()})\n",
    "\n",
    "\n",
    "chain=template | model | parser\n",
    "\n",
    "result=chain.invoke({\"topic\":\"A boy name Rajesh lived in Mumbai. He is only 15 years old and studies in IIT\"})\n",
    "\n",
    "print(result)"
   ]
  }
 ],
 "metadata": {
  "kernelspec": {
   "display_name": "langchainVenv (3.11.4)",
   "language": "python",
   "name": "python3"
  },
  "language_info": {
   "codemirror_mode": {
    "name": "ipython",
    "version": 3
   },
   "file_extension": ".py",
   "mimetype": "text/x-python",
   "name": "python",
   "nbconvert_exporter": "python",
   "pygments_lexer": "ipython3",
   "version": "3.11.4"
  }
 },
 "nbformat": 4,
 "nbformat_minor": 5
}
